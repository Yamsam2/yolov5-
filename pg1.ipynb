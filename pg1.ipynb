{
 "cells": [
  {
   "cell_type": "code",
   "execution_count": 2,
   "id": "b3dc72e5",
   "metadata": {},
   "outputs": [
    {
     "name": "stdout",
     "output_type": "stream",
     "text": [
      "Requirement already satisfied: torch==1.9.0 in c:\\users\\snc\\anaconda3\\lib\\site-packages (1.9.0)\n",
      "Requirement already satisfied: typing-extensions in c:\\users\\snc\\anaconda3\\lib\\site-packages (from torch==1.9.0) (3.10.0.2)\n"
     ]
    }
   ],
   "source": [
    "!pip install torch==1.9.0"
   ]
  },
  {
   "cell_type": "code",
   "execution_count": 3,
   "id": "a3a0a6fd",
   "metadata": {},
   "outputs": [
    {
     "name": "stdout",
     "output_type": "stream",
     "text": [
      "Collecting torchvision==0.10.0\n",
      "  Downloading torchvision-0.10.0-cp39-cp39-win_amd64.whl (920 kB)\n",
      "Requirement already satisfied: numpy in c:\\users\\snc\\anaconda3\\lib\\site-packages (from torchvision==0.10.0) (1.20.3)\n",
      "Requirement already satisfied: pillow>=5.3.0 in c:\\users\\snc\\anaconda3\\lib\\site-packages (from torchvision==0.10.0) (8.4.0)\n",
      "Requirement already satisfied: torch==1.9.0 in c:\\users\\snc\\anaconda3\\lib\\site-packages (from torchvision==0.10.0) (1.9.0)\n",
      "Requirement already satisfied: typing-extensions in c:\\users\\snc\\anaconda3\\lib\\site-packages (from torch==1.9.0->torchvision==0.10.0) (3.10.0.2)\n",
      "Installing collected packages: torchvision\n",
      "Successfully installed torchvision-0.10.0\n"
     ]
    }
   ],
   "source": [
    "!pip install torchvision==0.10.0"
   ]
  },
  {
   "cell_type": "code",
   "execution_count": 4,
   "id": "7fd19047",
   "metadata": {},
   "outputs": [
    {
     "name": "stdout",
     "output_type": "stream",
     "text": [
      "Requirement already satisfied: Flask in c:\\users\\snc\\anaconda3\\lib\\site-packages (1.1.2)\n",
      "Requirement already satisfied: itsdangerous>=0.24 in c:\\users\\snc\\anaconda3\\lib\\site-packages (from Flask) (2.0.1)\n",
      "Requirement already satisfied: Werkzeug>=0.15 in c:\\users\\snc\\anaconda3\\lib\\site-packages (from Flask) (2.0.2)\n",
      "Requirement already satisfied: Jinja2>=2.10.1 in c:\\users\\snc\\anaconda3\\lib\\site-packages (from Flask) (2.11.3)\n",
      "Requirement already satisfied: click>=5.1 in c:\\users\\snc\\anaconda3\\lib\\site-packages (from Flask) (8.0.3)\n",
      "Requirement already satisfied: colorama in c:\\users\\snc\\anaconda3\\lib\\site-packages (from click>=5.1->Flask) (0.4.4)\n",
      "Requirement already satisfied: MarkupSafe>=0.23 in c:\\users\\snc\\anaconda3\\lib\\site-packages (from Jinja2>=2.10.1->Flask) (1.1.1)\n"
     ]
    }
   ],
   "source": [
    "!pip install Flask"
   ]
  },
  {
   "cell_type": "code",
   "execution_count": 5,
   "id": "8111f1b7",
   "metadata": {},
   "outputs": [
    {
     "name": "stderr",
     "output_type": "stream",
     "text": [
      "Downloading: \"https://github.com/ultralytics/yolov5/archive/master.zip\" to C:\\Users\\snc/.cache\\torch\\hub\\master.zip\n",
      "YOLOv5  2022-5-12 torch 1.9.0+cpu CPU\n",
      "\n",
      "Downloading https://github.com/ultralytics/yolov5/releases/download/v6.1/yolov5s.pt to yolov5s.pt...\n"
     ]
    },
    {
     "data": {
      "application/vnd.jupyter.widget-view+json": {
       "model_id": "371f0afd96ff40c7b96d743525808cd9",
       "version_major": 2,
       "version_minor": 0
      },
      "text/plain": [
       "  0%|          | 0.00/14.1M [00:00<?, ?B/s]"
      ]
     },
     "metadata": {},
     "output_type": "display_data"
    },
    {
     "name": "stderr",
     "output_type": "stream",
     "text": [
      "\n",
      "Fusing layers... \n",
      "YOLOv5s summary: 213 layers, 7225885 parameters, 0 gradients\n",
      "Adding AutoShape... \n"
     ]
    }
   ],
   "source": [
    "import torch\n",
    "\n",
    "model = torch.hub.load('ultralytics/yolov5', 'yolov5s')"
   ]
  },
  {
   "cell_type": "code",
   "execution_count": 9,
   "id": "ac84a490",
   "metadata": {},
   "outputs": [
    {
     "name": "stdout",
     "output_type": "stream",
     "text": [
      "image 1/1: 393x620 26 cars, 4 buss, 1 truck\n",
      "Speed: 14.0ms pre-process, 191.0ms inference, 2.0ms NMS per image at shape (1, 3, 416, 640)\n"
     ]
    }
   ],
   "source": [
    "img_path = 'static/photos/cars.jpg'\n",
    "\n",
    "results = model(img_path)\n",
    "\n",
    "results.print()"
   ]
  },
  {
   "cell_type": "code",
   "execution_count": 12,
   "id": "c6e491d7",
   "metadata": {},
   "outputs": [],
   "source": [
    "results.show()"
   ]
  },
  {
   "cell_type": "code",
   "execution_count": 11,
   "id": "176a8349",
   "metadata": {},
   "outputs": [
    {
     "data": {
      "text/plain": [
       "[tensor([[4.90520e+02, 2.48661e+02, 5.47543e+02, 2.98740e+02, 8.18560e-01, 2.00000e+00],\n",
       "         [4.51145e+02, 1.78635e+02, 5.10921e+02, 2.53132e+02, 8.08866e-01, 5.00000e+00],\n",
       "         [4.41719e+02, 3.07082e+02, 5.04340e+02, 3.67705e+02, 7.84985e-01, 2.00000e+00],\n",
       "         [4.30400e+02, 2.59531e+02, 4.77067e+02, 3.02979e+02, 7.17888e-01, 2.00000e+00],\n",
       "         [3.63055e+02, 2.69398e+02, 4.07610e+02, 3.11210e+02, 6.90070e-01, 2.00000e+00],\n",
       "         [5.54656e+02, 2.38328e+02, 6.20000e+02, 2.77012e+02, 6.85975e-01, 2.00000e+00],\n",
       "         [3.89940e+02, 1.37180e+02, 4.24090e+02, 1.87773e+02, 6.19109e-01, 5.00000e+00],\n",
       "         [4.19729e+02, 2.25604e+02, 4.53617e+02, 2.57131e+02, 5.60730e-01, 2.00000e+00],\n",
       "         [1.91261e+02, 1.75009e+02, 2.15904e+02, 1.95644e+02, 5.23222e-01, 2.00000e+00],\n",
       "         [2.22025e+02, 2.03129e+02, 2.54384e+02, 2.33495e+02, 5.08528e-01, 2.00000e+00],\n",
       "         [1.24770e+02, 2.40135e+02, 1.73131e+02, 2.78847e+02, 4.98329e-01, 2.00000e+00],\n",
       "         [1.94663e+02, 2.22233e+02, 2.36020e+02, 2.58609e+02, 4.86798e-01, 2.00000e+00],\n",
       "         [1.55211e+02, 2.46836e+02, 2.01640e+02, 2.98507e+02, 4.83714e-01, 2.00000e+00],\n",
       "         [6.43902e+01, 2.90080e+02, 1.55282e+02, 3.69203e+02, 4.73611e-01, 7.00000e+00],\n",
       "         [2.72519e+02, 1.35319e+02, 3.00840e+02, 1.67870e+02, 4.62612e-01, 5.00000e+00],\n",
       "         [4.06030e+02, 1.87264e+02, 4.34943e+02, 2.08899e+02, 4.31119e-01, 2.00000e+00],\n",
       "         [3.77306e+02, 2.11949e+02, 4.11287e+02, 2.50950e+02, 4.03026e-01, 2.00000e+00],\n",
       "         [3.69269e+02, 1.84461e+02, 3.93749e+02, 2.08734e+02, 4.01975e-01, 2.00000e+00],\n",
       "         [2.42187e+02, 1.86046e+02, 2.64415e+02, 2.06837e+02, 3.42633e-01, 2.00000e+00],\n",
       "         [3.16842e+02, 1.31449e+02, 3.41396e+02, 1.62251e+02, 3.42292e-01, 5.00000e+00],\n",
       "         [1.22778e+02, 1.99009e+02, 1.55585e+02, 2.23225e+02, 3.37738e-01, 2.00000e+00],\n",
       "         [1.67363e+02, 1.58827e+02, 1.88283e+02, 1.76964e+02, 3.36049e-01, 2.00000e+00],\n",
       "         [0.00000e+00, 2.17695e+02, 3.78959e+01, 2.44780e+02, 3.32307e-01, 2.00000e+00],\n",
       "         [3.42251e+01, 2.80598e+02, 1.10891e+02, 3.40514e+02, 3.25426e-01, 2.00000e+00],\n",
       "         [2.00668e+02, 1.53827e+02, 2.18462e+02, 1.70470e+02, 3.22352e-01, 2.00000e+00],\n",
       "         [3.30724e+02, 1.57837e+02, 3.66326e+02, 2.03767e+02, 3.21989e-01, 2.00000e+00],\n",
       "         [1.36100e+02, 1.77995e+02, 1.67086e+02, 1.97769e+02, 3.18498e-01, 2.00000e+00],\n",
       "         [1.67536e+02, 2.12088e+02, 1.96378e+02, 2.40375e+02, 3.15854e-01, 2.00000e+00],\n",
       "         [5.77910e+01, 2.22647e+02, 1.08505e+02, 2.62890e+02, 3.05697e-01, 2.00000e+00],\n",
       "         [1.87923e+02, 1.45006e+02, 2.02668e+02, 1.58082e+02, 2.81510e-01, 2.00000e+00],\n",
       "         [6.20153e+01, 2.91138e+02, 1.53524e+02, 3.67501e+02, 2.57788e-01, 2.00000e+00]])]"
      ]
     },
     "execution_count": 11,
     "metadata": {},
     "output_type": "execute_result"
    }
   ],
   "source": [
    "results.pred"
   ]
  },
  {
   "cell_type": "code",
   "execution_count": 13,
   "id": "6b4b1c1f",
   "metadata": {},
   "outputs": [
    {
     "data": {
      "text/plain": [
       "['person',\n",
       " 'bicycle',\n",
       " 'car',\n",
       " 'motorcycle',\n",
       " 'airplane',\n",
       " 'bus',\n",
       " 'train',\n",
       " 'truck',\n",
       " 'boat',\n",
       " 'traffic light',\n",
       " 'fire hydrant',\n",
       " 'stop sign',\n",
       " 'parking meter',\n",
       " 'bench',\n",
       " 'bird',\n",
       " 'cat',\n",
       " 'dog',\n",
       " 'horse',\n",
       " 'sheep',\n",
       " 'cow',\n",
       " 'elephant',\n",
       " 'bear',\n",
       " 'zebra',\n",
       " 'giraffe',\n",
       " 'backpack',\n",
       " 'umbrella',\n",
       " 'handbag',\n",
       " 'tie',\n",
       " 'suitcase',\n",
       " 'frisbee',\n",
       " 'skis',\n",
       " 'snowboard',\n",
       " 'sports ball',\n",
       " 'kite',\n",
       " 'baseball bat',\n",
       " 'baseball glove',\n",
       " 'skateboard',\n",
       " 'surfboard',\n",
       " 'tennis racket',\n",
       " 'bottle',\n",
       " 'wine glass',\n",
       " 'cup',\n",
       " 'fork',\n",
       " 'knife',\n",
       " 'spoon',\n",
       " 'bowl',\n",
       " 'banana',\n",
       " 'apple',\n",
       " 'sandwich',\n",
       " 'orange',\n",
       " 'broccoli',\n",
       " 'carrot',\n",
       " 'hot dog',\n",
       " 'pizza',\n",
       " 'donut',\n",
       " 'cake',\n",
       " 'chair',\n",
       " 'couch',\n",
       " 'potted plant',\n",
       " 'bed',\n",
       " 'dining table',\n",
       " 'toilet',\n",
       " 'tv',\n",
       " 'laptop',\n",
       " 'mouse',\n",
       " 'remote',\n",
       " 'keyboard',\n",
       " 'cell phone',\n",
       " 'microwave',\n",
       " 'oven',\n",
       " 'toaster',\n",
       " 'sink',\n",
       " 'refrigerator',\n",
       " 'book',\n",
       " 'clock',\n",
       " 'vase',\n",
       " 'scissors',\n",
       " 'teddy bear',\n",
       " 'hair drier',\n",
       " 'toothbrush']"
      ]
     },
     "execution_count": 13,
     "metadata": {},
     "output_type": "execute_result"
    }
   ],
   "source": [
    "results.names"
   ]
  },
  {
   "cell_type": "code",
   "execution_count": 27,
   "id": "5aa7a951",
   "metadata": {},
   "outputs": [
    {
     "data": {
      "text/plain": [
       "'car'"
      ]
     },
     "execution_count": 27,
     "metadata": {},
     "output_type": "execute_result"
    }
   ],
   "source": [
    "results.names[int(results.pred[0][0][-1])]"
   ]
  },
  {
   "cell_type": "code",
   "execution_count": 26,
   "id": "df3bfe85",
   "metadata": {},
   "outputs": [
    {
     "data": {
      "text/plain": [
       "['사람',\n",
       " '자전거',\n",
       " '자동차',\n",
       " '바이크',\n",
       " '비행기',\n",
       " '버스',\n",
       " '기차',\n",
       " '트럭',\n",
       " '보트',\n",
       " '신호등',\n",
       " '소화전',\n",
       " '정지신호',\n",
       " '주차요금징수기',\n",
       " '벤치',\n",
       " '새',\n",
       " '고양이',\n",
       " '강아지',\n",
       " '말',\n",
       " '양',\n",
       " '소',\n",
       " '코끼리',\n",
       " '곰',\n",
       " '얼룩말',\n",
       " '기린',\n",
       " '백팩',\n",
       " '우산',\n",
       " '핸드백',\n",
       " '넥타이',\n",
       " '여행가방',\n",
       " '프리스비',\n",
       " '스키',\n",
       " '스노보드',\n",
       " '공',\n",
       " '연',\n",
       " '야구공',\n",
       " '야구글러브',\n",
       " '스케이트보드',\n",
       " '서핑보드',\n",
       " '테니스라켓',\n",
       " '병',\n",
       " '와인잔',\n",
       " '컵',\n",
       " '포크',\n",
       " '나이프',\n",
       " '숟가락',\n",
       " '그릇',\n",
       " '바나나',\n",
       " '사과',\n",
       " '샌드위치',\n",
       " '오렌지',\n",
       " '브로콜리',\n",
       " '당근',\n",
       " '핫도그',\n",
       " '피자',\n",
       " '도넛',\n",
       " '케이크',\n",
       " '의자',\n",
       " '소파',\n",
       " '식물',\n",
       " '침대',\n",
       " '테이블',\n",
       " '화장실',\n",
       " '테레비',\n",
       " '노트북',\n",
       " '마우스',\n",
       " '리모콘',\n",
       " '키보드',\n",
       " '휴대폰',\n",
       " '전자렌지',\n",
       " '오븐',\n",
       " '토스터',\n",
       " '싱크대',\n",
       " '냉장고',\n",
       " '책',\n",
       " '시계',\n",
       " '꽃병',\n",
       " '가위',\n",
       " '테디베어',\n",
       " '헤어드라이기',\n",
       " '칫솔']"
      ]
     },
     "execution_count": 26,
     "metadata": {},
     "output_type": "execute_result"
    }
   ],
   "source": [
    "import json\n",
    "\n",
    "with open('tags_ko.json', encoding='UTF8') as f:\n",
    "    tags_ko = json.load(f)\n",
    "tags_ko"
   ]
  },
  {
   "cell_type": "code",
   "execution_count": 28,
   "id": "29e3eaa6",
   "metadata": {},
   "outputs": [
    {
     "data": {
      "text/plain": [
       "{'static/photos\\\\01.jpg': ['야구공', '사람'],\n",
       " 'static/photos\\\\02.jpg': ['사람', '침대'],\n",
       " 'static/photos\\\\03.jpg': ['벤치', '우산', '의자', '사람'],\n",
       " 'static/photos\\\\04.jpg': [],\n",
       " 'static/photos\\\\05.jpg': ['자전거', '사람'],\n",
       " 'static/photos\\\\06.jpg': ['휴대폰', '자전거', '사람', '병'],\n",
       " 'static/photos\\\\07.jpg': ['자전거', '사람', '컵'],\n",
       " 'static/photos\\\\08.jpg': ['자전거', '사람'],\n",
       " 'static/photos\\\\09.jpg': ['트럭', '자동차'],\n",
       " 'static/photos\\\\10.jpg': ['사람'],\n",
       " 'static/photos\\\\11.jpg': ['휴대폰', '사람', '자동차'],\n",
       " 'static/photos\\\\12.jpg': ['핸드백', '사람'],\n",
       " 'static/photos\\\\13.jpg': ['벤치', '바이크'],\n",
       " 'static/photos\\\\14.jpg': ['사람'],\n",
       " 'static/photos\\\\15.jpg': ['사람', '자동차'],\n",
       " 'static/photos\\\\16.jpg': ['사람', '바이크'],\n",
       " 'static/photos\\\\17.jpg': ['사람', '바이크'],\n",
       " 'static/photos\\\\18.jpg': ['사람', '바이크'],\n",
       " 'static/photos\\\\19.jpg': [],\n",
       " 'static/photos\\\\20.jpg': ['비행기'],\n",
       " 'static/photos\\\\21.jpg': ['버스', '사람'],\n",
       " 'static/photos\\\\22.jpg': ['사람'],\n",
       " 'static/photos\\\\23.jpg': ['버스', '사람', '여행가방'],\n",
       " 'static/photos\\\\24.jpg': ['핸드백', '사람', '기차'],\n",
       " 'static/photos\\\\25.jpg': ['기차'],\n",
       " 'static/photos\\\\26.jpg': ['사람', '기차', '백팩'],\n",
       " 'static/photos\\\\27.jpg': ['새'],\n",
       " 'static/photos\\\\28.jpg': ['새'],\n",
       " 'static/photos\\\\29.jpg': ['새'],\n",
       " 'static/photos\\\\30.jpg': ['고양이'],\n",
       " 'static/photos\\\\31.jpg': ['넥타이'],\n",
       " 'static/photos\\\\32.jpg': ['고양이'],\n",
       " 'static/photos\\\\33.jpg': ['고양이', '침대'],\n",
       " 'static/photos\\\\34.jpg': ['얼룩말'],\n",
       " 'static/photos\\\\35.jpg': ['기린'],\n",
       " 'static/photos\\\\36.jpg': ['사람', '스노보드'],\n",
       " 'static/photos\\\\37.jpg': ['스키', '사람'],\n",
       " 'static/photos\\\\38.jpg': ['스키', '사람'],\n",
       " 'static/photos\\\\39.jpg': ['사람', '스노보드'],\n",
       " 'static/photos\\\\40.jpg': ['사람', '연'],\n",
       " 'static/photos\\\\41.jpg': ['사람', '연'],\n",
       " 'static/photos\\\\42.jpg': ['사람', '연'],\n",
       " 'static/photos\\\\43.jpg': ['사람', '연'],\n",
       " 'static/photos\\\\44.jpg': ['서핑보드'],\n",
       " 'static/photos\\\\45.jpg': ['사람', '서핑보드'],\n",
       " 'static/photos\\\\46.jpg': ['사람', '서핑보드'],\n",
       " 'static/photos\\\\47.jpg': ['사람', '서핑보드'],\n",
       " 'static/photos\\\\48.jpg': ['나이프', '포크', '와인잔'],\n",
       " 'static/photos\\\\49.jpg': ['사람', '와인잔'],\n",
       " 'static/photos\\\\50.jpg': ['테이블', '병', '와인잔', '그릇', '사람', '컵'],\n",
       " 'static/photos\\\\51.jpg': ['테이블',\n",
       "  '사과',\n",
       "  '병',\n",
       "  '와인잔',\n",
       "  '오렌지',\n",
       "  '그릇',\n",
       "  '사람',\n",
       "  '컵',\n",
       "  '나이프'],\n",
       " 'static/photos\\\\52.jpg': ['피자'],\n",
       " 'static/photos\\\\53.jpg': ['사람'],\n",
       " 'static/photos\\\\54.jpg': ['피자', '사람'],\n",
       " 'static/photos\\\\55.jpg': ['피자', '사람', '핸드백', '컵'],\n",
       " 'static/photos\\\\56.jpg': ['테이블', '노트북', '병', '피자', '사람'],\n",
       " 'static/photos\\\\57.jpg': ['케이크'],\n",
       " 'static/photos\\\\58.jpg': ['사람', '케이크'],\n",
       " 'static/photos\\\\59.jpg': ['사람', '테이블', '케이크'],\n",
       " 'static/photos\\\\60.jpg': ['사람', '테이블', '강아지'],\n",
       " 'static/photos\\\\61.jpg': ['사람', '케이크', '와인잔'],\n",
       " 'static/photos\\\\62.jpg': ['사람', '노트북', '테이블', '케이크'],\n",
       " 'static/photos\\\\63.jpg': ['테이블', '의자', '노트북', '병', '그릇', '식물', '사람', '컵'],\n",
       " 'static/photos\\\\64.jpg': ['마우스', '사람', '노트북', '컵'],\n",
       " 'static/photos\\\\65.jpg': ['테이블',\n",
       "  '의자',\n",
       "  '노트북',\n",
       "  '병',\n",
       "  '와인잔',\n",
       "  '식물',\n",
       "  '소파',\n",
       "  '사람',\n",
       "  '컵'],\n",
       " 'static/photos\\\\66.jpg': ['식물', '소파', '사람', '노트북'],\n",
       " 'static/photos\\\\67.jpg': ['의자', '사람', '노트북', '테이블'],\n",
       " 'static/photos\\\\cars.jpg': ['버스', '트럭', '자동차']}"
      ]
     },
     "execution_count": 28,
     "metadata": {},
     "output_type": "execute_result"
    }
   ],
   "source": [
    "from glob import glob\n",
    "img_list = glob('static/photos/*.jpg')\n",
    "\n",
    "db ={}\n",
    "\n",
    "for img_path in img_list:\n",
    "    results = model(img_path)\n",
    "    \n",
    "    tags = set()\n",
    "    \n",
    "    for pred in results.pred[0]:\n",
    "        tag = tags_ko[int(pred[-1])]\n",
    "        tag = tag.replace(' ', '')\n",
    "        tags.add(tag)\n",
    "        \n",
    "    db[img_path] = list(tags)\n",
    "db"
   ]
  },
  {
   "cell_type": "code",
   "execution_count": null,
   "id": "595cc65a",
   "metadata": {},
   "outputs": [],
   "source": [
    "from flask import Flask, render_template\n",
    "\n",
    "app = Flask(__name__)\n",
    "\n",
    "@app.route('/')\n",
    "def index():\n",
    "    return render_template('index.html', photos=db)\n",
    "\n",
    "\n",
    "\n",
    "if __name__ == '__main__':\n",
    "    app.run()"
   ]
  }
 ],
 "metadata": {
  "kernelspec": {
   "display_name": "Python 3 (ipykernel)",
   "language": "python",
   "name": "python3"
  },
  "language_info": {
   "codemirror_mode": {
    "name": "ipython",
    "version": 3
   },
   "file_extension": ".py",
   "mimetype": "text/x-python",
   "name": "python",
   "nbconvert_exporter": "python",
   "pygments_lexer": "ipython3",
   "version": "3.9.7"
  }
 },
 "nbformat": 4,
 "nbformat_minor": 5
}
